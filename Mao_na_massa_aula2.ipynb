{
  "nbformat": 4,
  "nbformat_minor": 0,
  "metadata": {
    "colab": {
      "provenance": []
    },
    "kernelspec": {
      "name": "python3",
      "display_name": "Python 3"
    },
    "language_info": {
      "name": "python"
    }
  },
  "cells": [
    {
      "cell_type": "markdown",
      "source": [
        "# Aula 1"
      ],
      "metadata": {
        "id": "bXMQlbOMuKkV"
      }
    },
    {
      "cell_type": "code",
      "source": [
        "!pip install litellm"
      ],
      "metadata": {
        "id": "_d6OnajWy4Yc"
      },
      "execution_count": null,
      "outputs": []
    },
    {
      "cell_type": "code",
      "source": [
        "from litellm import completion"
      ],
      "metadata": {
        "id": "79n11oyjuRsb"
      },
      "execution_count": null,
      "outputs": []
    },
    {
      "cell_type": "code",
      "source": [
        "from google.colab import userdata\n",
        "GROQ_API_KEY = userdata.get('GROQ_API_KEY')"
      ],
      "metadata": {
        "id": "S4wS1QuxuWfw"
      },
      "execution_count": null,
      "outputs": []
    },
    {
      "cell_type": "code",
      "execution_count": null,
      "metadata": {
        "id": "dNA65JVTrgIo"
      },
      "outputs": [],
      "source": [
        "# Função para chamar a API com o histórico de mensagens\n",
        "def call_groq_api(messages, model=\"groq/llama3-groq-70b-8192-tool-use-preview\"):\n",
        "    response = completion(\n",
        "        model=model,\n",
        "        messages=messages,\n",
        "        api_key=GROQ_API_KEY,\n",
        "    )\n",
        "    return response.choices[0].message.content\n"
      ]
    },
    {
      "cell_type": "code",
      "source": [
        "# Função para iniciar o chat, mantendo o histórico\n",
        "def chat():\n",
        "    print(\"Iniciando chat com o modelo. Digite 'sair' para encerrar.\")\n",
        "\n",
        "\n",
        "    # Histórico de mensagens\n",
        "    messages = [{\"role\": \"system\", \"content\": \"\"\"\n",
        "    Você é o chatbot da Pizza Turtle, uma pizzaria com um ambiente acolhedor, divertido e familiar.\n",
        "    Sua personalidade deve ser amigável, leve e entusiasmada, com uma linguagem descontraída.\n",
        "    Sempre que possível, use expressões simpáticas e emojis de tartaruga 🐢 e pizza 🍕 de forma moderada para reforçar a identidade da marca.\n",
        "    Você deve conhecer o cardápio, incluindo os ingredientes, tamanhos, opções de personalização, e promoções atuais.\n",
        "    Sugira sabores populares e acompanhamentos, especialmente para clientes indecisos, e sempre ofereça opções de personalização, explicando com clareza as escolhas de massa, tamanho e ingredientes extras. Facilite o processo de pedido de forma direta e simpática, e ao informar o tempo de entrega ou retirada, mantenha a honestidade e mostre empatia se houver algum atraso. Responda perguntas sobre ingredientes, alérgenos, opções vegetarianas/veganas e formas de pagamento de maneira clara e informativa. Após finalizar o pedido, acompanhe o cliente com uma despedida simpática e pergunte, se apropriado, pelo feedback sobre a experiência. Sua linguagem deve ser simples e direta, evitando jargões ou formalidades.\n",
        "    \"\"\"}]\n",
        "\n",
        "\n",
        "    while True:\n",
        "        user_message = input(\"Você: \")\n",
        "        if user_message.lower() == \"sair\":\n",
        "            print(\"Encerrando chat. Até a próxima!\")\n",
        "            break\n",
        "\n",
        "\n",
        "        # Adicionar a mensagem do usuário ao histórico\n",
        "        messages.append({\"role\": \"user\", \"content\": user_message})\n",
        "\n",
        "\n",
        "        # Chamar a API com o histórico completo\n",
        "        model_response = call_groq_api(messages)\n",
        "\n",
        "\n",
        "        # Adicionar a resposta do modelo ao histórico\n",
        "        messages.append({\"role\": \"assistant\", \"content\": model_response})\n",
        "\n",
        "\n",
        "        # Exibir a resposta do assistente\n",
        "        print(f\"Assistente: {model_response}\")\n"
      ],
      "metadata": {
        "id": "wzmOWz8ytjKr"
      },
      "execution_count": null,
      "outputs": []
    },
    {
      "cell_type": "code",
      "source": [
        "chat()"
      ],
      "metadata": {
        "id": "dnIBzYFhuNaL"
      },
      "execution_count": null,
      "outputs": []
    },
    {
      "cell_type": "markdown",
      "source": [
        "# Aula 2"
      ],
      "metadata": {
        "id": "H3kb_NHJBNMj"
      }
    },
    {
      "cell_type": "code",
      "source": [
        "import requests\n",
        "import json\n",
        "\n",
        "def verificar_rua_cep(cep):\n",
        "    # Lista de ruas atendidas\n",
        "    ruas_atendidas = [\"Rua Vergueiro\", \"Avenida Paulista\", \"Rua Augusta\"]\n",
        "\n",
        "    # URL da API ViaCEP para consulta de endereço\n",
        "    url = f\"https://viacep.com.br/ws/{cep}/json/\"\n",
        "\n",
        "    try:\n",
        "        response = requests.get(url)\n",
        "        response.raise_for_status()\n",
        "        endereco = response.json()\n",
        "\n",
        "        # Verifica se o CEP é válido e possui logradouro\n",
        "        if 'logradouro' in endereco:\n",
        "            logradouro = endereco['logradouro']\n",
        "            if logradouro in ruas_atendidas:\n",
        "                return f\"A rua '{logradouro}' está na lista de ruas atendidas.\"\n",
        "            else:\n",
        "                return f\"A rua '{logradouro}' NÃO está na lista de ruas atendidas.\"\n",
        "        else:\n",
        "            return \"CEP inválido ou sem logradouro associado.\"\n",
        "\n",
        "    except requests.RequestException as e:\n",
        "        return f\"Erro ao consultar o CEP: {e}\"\n",
        "\n",
        "\n"
      ],
      "metadata": {
        "id": "3tSxy8TLuOU_"
      },
      "execution_count": 13,
      "outputs": []
    },
    {
      "cell_type": "code",
      "source": [
        "# Exemplo de uso\n",
        "cep = \"01311000\"  # Insira o CEP desejado - Avenida Paulista\n",
        "cep = \"05436100\" # Beco do Batman\n",
        "print(verificar_rua_cep(cep))"
      ],
      "metadata": {
        "colab": {
          "base_uri": "https://localhost:8080/"
        },
        "id": "QyCaPZzvBZF3",
        "outputId": "8f6768b6-886e-4dae-fb21-197a8d77c141"
      },
      "execution_count": 14,
      "outputs": [
        {
          "output_type": "stream",
          "name": "stdout",
          "text": [
            "A rua 'Rua Gonçalo Afonso' NÃO está na lista de ruas atendidas.\n"
          ]
        }
      ]
    },
    {
      "cell_type": "code",
      "source": [
        "tools = [\n",
        "        {\n",
        "            \"type\": \"function\",\n",
        "            \"function\": {\n",
        "                \"name\": \"verificar_rua_cep\",\n",
        "                \"description\": \"Retorna se o CEP corresponde a uma rua atendida\",\n",
        "                \"parameters\": {\n",
        "                    \"type\": \"object\",\n",
        "                    \"properties\": {\n",
        "                        \"cep\": {\n",
        "                            \"type\": \"string\",\n",
        "                            \"description\": \"CEP do endereço\",\n",
        "                        },\n",
        "                    },\n",
        "                    \"required\": [\"cep\"],\n",
        "                },\n",
        "            }\n",
        "\n",
        "        }\n",
        "]"
      ],
      "metadata": {
        "id": "YrROHSyeBaB-"
      },
      "execution_count": 15,
      "outputs": []
    },
    {
      "cell_type": "code",
      "source": [
        "# Função para chamar a API com o histórico de mensagens\n",
        "def call_groq_api(messages, model=\"groq/llama3-groq-70b-8192-tool-use-preview\"):\n",
        "    global tools\n",
        "    response = completion(\n",
        "        model=model,\n",
        "        messages=messages,\n",
        "        tools=tools,\n",
        "        tool_choice=\"auto\",\n",
        "        api_key=GROQ_API_KEY,\n",
        "    )\n",
        "    resposta_texto = response.choices[0].message\n",
        "    chamada_ferramentas = resposta_texto.tool_calls\n",
        "    if chamada_ferramentas:\n",
        "      available_functions = {\n",
        "        \"verificar_rua_cep\": verificar_rua_cep,\n",
        "      }\n",
        "      for tool_call in chamada_ferramentas:\n",
        "        function_name = tool_call.function.name\n",
        "        function_to_call = available_functions[function_name]\n",
        "        function_args = json.loads(tool_call.function.arguments)\n",
        "        function_response = function_to_call(\n",
        "            cep=function_args.get(\"cep\"),\n",
        "        )\n",
        "        return function_response\n",
        "\n",
        "    else:\n",
        "      return resposta_texto.content\n"
      ],
      "metadata": {
        "id": "GVuWww0fE3D_"
      },
      "execution_count": 18,
      "outputs": []
    },
    {
      "cell_type": "code",
      "source": [
        "chat()"
      ],
      "metadata": {
        "colab": {
          "base_uri": "https://localhost:8080/"
        },
        "id": "IraQQmqGFGce",
        "outputId": "f4eb299f-2db0-4823-8e7c-cdfc0ad2a4aa"
      },
      "execution_count": 19,
      "outputs": [
        {
          "output_type": "stream",
          "name": "stdout",
          "text": [
            "Iniciando chat com o modelo. Digite 'sair' para encerrar.\n",
            "Você: Vocês atendem no CEP 01311000?\n",
            "Assistente: A rua 'Avenida Paulista' está na lista de ruas atendidas.\n",
            "Você: Sair\n",
            "Encerrando chat. Até a próxima!\n"
          ]
        }
      ]
    },
    {
      "cell_type": "code",
      "source": [],
      "metadata": {
        "id": "G7SpBPcMFJXO"
      },
      "execution_count": null,
      "outputs": []
    }
  ]
}