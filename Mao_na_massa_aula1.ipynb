{
  "nbformat": 4,
  "nbformat_minor": 0,
  "metadata": {
    "colab": {
      "provenance": []
    },
    "kernelspec": {
      "name": "python3",
      "display_name": "Python 3"
    },
    "language_info": {
      "name": "python"
    }
  },
  "cells": [
    {
      "cell_type": "markdown",
      "source": [
        "# Aula 1"
      ],
      "metadata": {
        "id": "bXMQlbOMuKkV"
      }
    },
    {
      "cell_type": "code",
      "source": [
        "!pip install litellm"
      ],
      "metadata": {
        "id": "_d6OnajWy4Yc"
      },
      "execution_count": null,
      "outputs": []
    },
    {
      "cell_type": "code",
      "source": [
        "from litellm import completion"
      ],
      "metadata": {
        "id": "79n11oyjuRsb"
      },
      "execution_count": null,
      "outputs": []
    },
    {
      "cell_type": "code",
      "source": [
        "from google.colab import userdata\n",
        "GROQ_API_KEY = userdata.get('GROQ_API_KEY')"
      ],
      "metadata": {
        "id": "S4wS1QuxuWfw"
      },
      "execution_count": null,
      "outputs": []
    },
    {
      "cell_type": "code",
      "execution_count": null,
      "metadata": {
        "id": "dNA65JVTrgIo"
      },
      "outputs": [],
      "source": [
        "# Função para chamar a API com o histórico de mensagens\n",
        "def call_groq_api(messages, model=\"groq/llama3-groq-70b-8192-tool-use-preview\"):\n",
        "    response = completion(\n",
        "        model=model,\n",
        "        messages=messages,\n",
        "        api_key=GROQ_API_KEY,\n",
        "    )\n",
        "    return response.choices[0].message.content\n"
      ]
    },
    {
      "cell_type": "code",
      "source": [
        "# Função para iniciar o chat, mantendo o histórico\n",
        "def chat():\n",
        "    print(\"Iniciando chat com o modelo. Digite 'sair' para encerrar.\")\n",
        "\n",
        "\n",
        "    # Histórico de mensagens\n",
        "    messages = [{\"role\": \"system\", \"content\": \"\"\"\n",
        "    Você é o chatbot da Pizza Turtle, uma pizzaria com um ambiente acolhedor, divertido e familiar.\n",
        "    Sua personalidade deve ser amigável, leve e entusiasmada, com uma linguagem descontraída.\n",
        "    Sempre que possível, use expressões simpáticas e emojis de tartaruga 🐢 e pizza 🍕 de forma moderada para reforçar a identidade da marca.\n",
        "    Você deve conhecer o cardápio, incluindo os ingredientes, tamanhos, opções de personalização, e promoções atuais.\n",
        "    Sugira sabores populares e acompanhamentos, especialmente para clientes indecisos, e sempre ofereça opções de personalização, explicando com clareza as escolhas de massa, tamanho e ingredientes extras. Facilite o processo de pedido de forma direta e simpática, e ao informar o tempo de entrega ou retirada, mantenha a honestidade e mostre empatia se houver algum atraso. Responda perguntas sobre ingredientes, alérgenos, opções vegetarianas/veganas e formas de pagamento de maneira clara e informativa. Após finalizar o pedido, acompanhe o cliente com uma despedida simpática e pergunte, se apropriado, pelo feedback sobre a experiência. Sua linguagem deve ser simples e direta, evitando jargões ou formalidades.\n",
        "    \"\"\"}]\n",
        "\n",
        "\n",
        "    while True:\n",
        "        user_message = input(\"Você: \")\n",
        "        if user_message.lower() == \"sair\":\n",
        "            print(\"Encerrando chat. Até a próxima!\")\n",
        "            break\n",
        "\n",
        "\n",
        "        # Adicionar a mensagem do usuário ao histórico\n",
        "        messages.append({\"role\": \"user\", \"content\": user_message})\n",
        "\n",
        "\n",
        "        # Chamar a API com o histórico completo\n",
        "        model_response = call_groq_api(messages)\n",
        "\n",
        "\n",
        "        # Adicionar a resposta do modelo ao histórico\n",
        "        messages.append({\"role\": \"assistant\", \"content\": model_response})\n",
        "\n",
        "\n",
        "        # Exibir a resposta do assistente\n",
        "        print(f\"Assistente: {model_response}\")\n"
      ],
      "metadata": {
        "id": "wzmOWz8ytjKr"
      },
      "execution_count": null,
      "outputs": []
    },
    {
      "cell_type": "code",
      "source": [
        "chat()"
      ],
      "metadata": {
        "id": "dnIBzYFhuNaL"
      },
      "execution_count": null,
      "outputs": []
    },
    {
      "cell_type": "code",
      "source": [],
      "metadata": {
        "id": "3tSxy8TLuOU_"
      },
      "execution_count": null,
      "outputs": []
    }
  ]
}