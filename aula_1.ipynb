{
 "cells": [
  {
   "cell_type": "markdown",
   "id": "173b98e1",
   "metadata": {
    "id": "1whNGuuGHS8j"
   },
   "source": [
    "# Aula 1 - Utilizando modelos de LLM"
   ]
  },
  {
   "cell_type": "markdown",
   "id": "7465bfe3",
   "metadata": {
    "id": "O_fo8tAJTzKR"
   },
   "source": [
    "## Vídeo 1.2 - Obtendo uma resposta da LLM"
   ]
  },
  {
   "cell_type": "code",
   "execution_count": null,
   "id": "c9fc3d34",
   "metadata": {
    "colab": {
     "base_uri": "https://localhost:8080/"
    },
    "id": "MckJUd_VHFAe",
    "outputId": "5eb1fb20-3de3-4d20-c005-7eb171136614"
   },
   "outputs": [
    {
     "name": "stdout",
     "output_type": "stream",
     "text": [
      "Collecting litellm\n",
      "  Downloading litellm-1.50.1-py3-none-any.whl.metadata (32 kB)\n",
      "Requirement already satisfied: aiohttp in /usr/local/lib/python3.10/dist-packages (from litellm) (3.10.10)\n",
      "Requirement already satisfied: click in /usr/local/lib/python3.10/dist-packages (from litellm) (8.1.7)\n",
      "Requirement already satisfied: importlib-metadata>=6.8.0 in /usr/local/lib/python3.10/dist-packages (from litellm) (8.5.0)\n",
      "Requirement already satisfied: jinja2<4.0.0,>=3.1.2 in /usr/local/lib/python3.10/dist-packages (from litellm) (3.1.4)\n",
      "Requirement already satisfied: jsonschema<5.0.0,>=4.22.0 in /usr/local/lib/python3.10/dist-packages (from litellm) (4.23.0)\n",
      "Collecting openai>=1.52.0 (from litellm)\n",
      "  Downloading openai-1.52.0-py3-none-any.whl.metadata (24 kB)\n",
      "Requirement already satisfied: pydantic<3.0.0,>=2.0.0 in /usr/local/lib/python3.10/dist-packages (from litellm) (2.9.2)\n",
      "Collecting python-dotenv>=0.2.0 (from litellm)\n",
      "  Downloading python_dotenv-1.0.1-py3-none-any.whl.metadata (23 kB)\n",
      "Requirement already satisfied: requests<3.0.0,>=2.31.0 in /usr/local/lib/python3.10/dist-packages (from litellm) (2.32.3)\n",
      "Collecting tiktoken>=0.7.0 (from litellm)\n",
      "  Downloading tiktoken-0.8.0-cp310-cp310-manylinux_2_17_x86_64.manylinux2014_x86_64.whl.metadata (6.6 kB)\n",
      "Requirement already satisfied: tokenizers in /usr/local/lib/python3.10/dist-packages (from litellm) (0.19.1)\n",
      "Requirement already satisfied: zipp>=3.20 in /usr/local/lib/python3.10/dist-packages (from importlib-metadata>=6.8.0->litellm) (3.20.2)\n",
      "Requirement already satisfied: MarkupSafe>=2.0 in /usr/local/lib/python3.10/dist-packages (from jinja2<4.0.0,>=3.1.2->litellm) (3.0.1)\n",
      "Requirement already satisfied: attrs>=22.2.0 in /usr/local/lib/python3.10/dist-packages (from jsonschema<5.0.0,>=4.22.0->litellm) (24.2.0)\n",
      "Requirement already satisfied: jsonschema-specifications>=2023.03.6 in /usr/local/lib/python3.10/dist-packages (from jsonschema<5.0.0,>=4.22.0->litellm) (2024.10.1)\n",
      "Requirement already satisfied: referencing>=0.28.4 in /usr/local/lib/python3.10/dist-packages (from jsonschema<5.0.0,>=4.22.0->litellm) (0.35.1)\n",
      "Requirement already satisfied: rpds-py>=0.7.1 in /usr/local/lib/python3.10/dist-packages (from jsonschema<5.0.0,>=4.22.0->litellm) (0.20.0)\n",
      "Requirement already satisfied: anyio<5,>=3.5.0 in /usr/local/lib/python3.10/dist-packages (from openai>=1.52.0->litellm) (3.7.1)\n",
      "Requirement already satisfied: distro<2,>=1.7.0 in /usr/lib/python3/dist-packages (from openai>=1.52.0->litellm) (1.7.0)\n",
      "Collecting httpx<1,>=0.23.0 (from openai>=1.52.0->litellm)\n",
      "  Downloading httpx-0.27.2-py3-none-any.whl.metadata (7.1 kB)\n",
      "Collecting jiter<1,>=0.4.0 (from openai>=1.52.0->litellm)\n",
      "  Downloading jiter-0.6.1-cp310-cp310-manylinux_2_17_x86_64.manylinux2014_x86_64.whl.metadata (5.2 kB)\n",
      "Requirement already satisfied: sniffio in /usr/local/lib/python3.10/dist-packages (from openai>=1.52.0->litellm) (1.3.1)\n",
      "Requirement already satisfied: tqdm>4 in /usr/local/lib/python3.10/dist-packages (from openai>=1.52.0->litellm) (4.66.5)\n",
      "Requirement already satisfied: typing-extensions<5,>=4.11 in /usr/local/lib/python3.10/dist-packages (from openai>=1.52.0->litellm) (4.12.2)\n",
      "Requirement already satisfied: annotated-types>=0.6.0 in /usr/local/lib/python3.10/dist-packages (from pydantic<3.0.0,>=2.0.0->litellm) (0.7.0)\n",
      "Requirement already satisfied: pydantic-core==2.23.4 in /usr/local/lib/python3.10/dist-packages (from pydantic<3.0.0,>=2.0.0->litellm) (2.23.4)\n",
      "Requirement already satisfied: charset-normalizer<4,>=2 in /usr/local/lib/python3.10/dist-packages (from requests<3.0.0,>=2.31.0->litellm) (3.4.0)\n",
      "Requirement already satisfied: idna<4,>=2.5 in /usr/local/lib/python3.10/dist-packages (from requests<3.0.0,>=2.31.0->litellm) (3.10)\n",
      "Requirement already satisfied: urllib3<3,>=1.21.1 in /usr/local/lib/python3.10/dist-packages (from requests<3.0.0,>=2.31.0->litellm) (2.2.3)\n",
      "Requirement already satisfied: certifi>=2017.4.17 in /usr/local/lib/python3.10/dist-packages (from requests<3.0.0,>=2.31.0->litellm) (2024.8.30)\n",
      "Requirement already satisfied: regex>=2022.1.18 in /usr/local/lib/python3.10/dist-packages (from tiktoken>=0.7.0->litellm) (2024.9.11)\n",
      "Requirement already satisfied: aiohappyeyeballs>=2.3.0 in /usr/local/lib/python3.10/dist-packages (from aiohttp->litellm) (2.4.3)\n",
      "Requirement already satisfied: aiosignal>=1.1.2 in /usr/local/lib/python3.10/dist-packages (from aiohttp->litellm) (1.3.1)\n",
      "Requirement already satisfied: frozenlist>=1.1.1 in /usr/local/lib/python3.10/dist-packages (from aiohttp->litellm) (1.4.1)\n",
      "Requirement already satisfied: multidict<7.0,>=4.5 in /usr/local/lib/python3.10/dist-packages (from aiohttp->litellm) (6.1.0)\n",
      "Requirement already satisfied: yarl<2.0,>=1.12.0 in /usr/local/lib/python3.10/dist-packages (from aiohttp->litellm) (1.15.2)\n",
      "Requirement already satisfied: async-timeout<5.0,>=4.0 in /usr/local/lib/python3.10/dist-packages (from aiohttp->litellm) (4.0.3)\n",
      "Requirement already satisfied: huggingface-hub<1.0,>=0.16.4 in /usr/local/lib/python3.10/dist-packages (from tokenizers->litellm) (0.24.7)\n",
      "Requirement already satisfied: exceptiongroup in /usr/local/lib/python3.10/dist-packages (from anyio<5,>=3.5.0->openai>=1.52.0->litellm) (1.2.2)\n",
      "Collecting httpcore==1.* (from httpx<1,>=0.23.0->openai>=1.52.0->litellm)\n",
      "  Downloading httpcore-1.0.6-py3-none-any.whl.metadata (21 kB)\n",
      "Collecting h11<0.15,>=0.13 (from httpcore==1.*->httpx<1,>=0.23.0->openai>=1.52.0->litellm)\n",
      "  Downloading h11-0.14.0-py3-none-any.whl.metadata (8.2 kB)\n",
      "Requirement already satisfied: filelock in /usr/local/lib/python3.10/dist-packages (from huggingface-hub<1.0,>=0.16.4->tokenizers->litellm) (3.16.1)\n",
      "Requirement already satisfied: fsspec>=2023.5.0 in /usr/local/lib/python3.10/dist-packages (from huggingface-hub<1.0,>=0.16.4->tokenizers->litellm) (2024.6.1)\n",
      "Requirement already satisfied: packaging>=20.9 in /usr/local/lib/python3.10/dist-packages (from huggingface-hub<1.0,>=0.16.4->tokenizers->litellm) (24.1)\n",
      "Requirement already satisfied: pyyaml>=5.1 in /usr/local/lib/python3.10/dist-packages (from huggingface-hub<1.0,>=0.16.4->tokenizers->litellm) (6.0.2)\n",
      "Requirement already satisfied: propcache>=0.2.0 in /usr/local/lib/python3.10/dist-packages (from yarl<2.0,>=1.12.0->aiohttp->litellm) (0.2.0)\n",
      "Downloading litellm-1.50.1-py3-none-any.whl (6.3 MB)\n",
      "\u001b[2K   \u001b[90m━━━━━━━━━━━━━━━━━━━━━━━━━━━━━━━━━━━━━━━━\u001b[0m \u001b[32m6.3/6.3 MB\u001b[0m \u001b[31m25.4 MB/s\u001b[0m eta \u001b[36m0:00:00\u001b[0m\n",
      "\u001b[?25hDownloading openai-1.52.0-py3-none-any.whl (386 kB)\n",
      "\u001b[2K   \u001b[90m━━━━━━━━━━━━━━━━━━━━━━━━━━━━━━━━━━━━━━━━\u001b[0m \u001b[32m386.9/386.9 kB\u001b[0m \u001b[31m7.7 MB/s\u001b[0m eta \u001b[36m0:00:00\u001b[0m\n",
      "\u001b[?25hDownloading python_dotenv-1.0.1-py3-none-any.whl (19 kB)\n",
      "Downloading tiktoken-0.8.0-cp310-cp310-manylinux_2_17_x86_64.manylinux2014_x86_64.whl (1.2 MB)\n",
      "\u001b[2K   \u001b[90m━━━━━━━━━━━━━━━━━━━━━━━━━━━━━━━━━━━━━━━━\u001b[0m \u001b[32m1.2/1.2 MB\u001b[0m \u001b[31m23.3 MB/s\u001b[0m eta \u001b[36m0:00:00\u001b[0m\n",
      "\u001b[?25hDownloading httpx-0.27.2-py3-none-any.whl (76 kB)\n",
      "\u001b[2K   \u001b[90m━━━━━━━━━━━━━━━━━━━━━━━━━━━━━━━━━━━━━━━━\u001b[0m \u001b[32m76.4/76.4 kB\u001b[0m \u001b[31m3.7 MB/s\u001b[0m eta \u001b[36m0:00:00\u001b[0m\n",
      "\u001b[?25hDownloading httpcore-1.0.6-py3-none-any.whl (78 kB)\n",
      "\u001b[2K   \u001b[90m━━━━━━━━━━━━━━━━━━━━━━━━━━━━━━━━━━━━━━━━\u001b[0m \u001b[32m78.0/78.0 kB\u001b[0m \u001b[31m3.9 MB/s\u001b[0m eta \u001b[36m0:00:00\u001b[0m\n",
      "\u001b[?25hDownloading jiter-0.6.1-cp310-cp310-manylinux_2_17_x86_64.manylinux2014_x86_64.whl (325 kB)\n",
      "\u001b[2K   \u001b[90m━━━━━━━━━━━━━━━━━━━━━━━━━━━━━━━━━━━━━━━━\u001b[0m \u001b[32m325.2/325.2 kB\u001b[0m \u001b[31m18.2 MB/s\u001b[0m eta \u001b[36m0:00:00\u001b[0m\n",
      "\u001b[?25hDownloading h11-0.14.0-py3-none-any.whl (58 kB)\n",
      "\u001b[2K   \u001b[90m━━━━━━━━━━━━━━━━━━━━━━━━━━━━━━━━━━━━━━━━\u001b[0m \u001b[32m58.3/58.3 kB\u001b[0m \u001b[31m2.9 MB/s\u001b[0m eta \u001b[36m0:00:00\u001b[0m\n",
      "\u001b[?25hInstalling collected packages: python-dotenv, jiter, h11, tiktoken, httpcore, httpx, openai, litellm\n",
      "Successfully installed h11-0.14.0 httpcore-1.0.6 httpx-0.27.2 jiter-0.6.1 litellm-1.50.1 openai-1.52.0 python-dotenv-1.0.1 tiktoken-0.8.0\n"
     ]
    }
   ],
   "source": [
    "!pip install litellm"
   ]
  },
  {
   "cell_type": "code",
   "execution_count": null,
   "id": "b2bb0ae4",
   "metadata": {
    "id": "MPeusxnfUIfl"
   },
   "outputs": [],
   "source": [
    "from google.colab import userdata\n",
    "GROQ_API_KEY = userdata.get('GROQ_API_KEY')"
   ]
  },
  {
   "cell_type": "code",
   "execution_count": null,
   "id": "3d2268c2",
   "metadata": {
    "id": "08-ArVtEUQYw"
   },
   "outputs": [],
   "source": [
    "from litellm import completion"
   ]
  },
  {
   "cell_type": "code",
   "execution_count": null,
   "id": "964375cd",
   "metadata": {
    "id": "M6YPk7gmUVx7"
   },
   "outputs": [],
   "source": [
    "messages = [\n",
    "    {\"role\": \"system\", \"content\": \"Você é o Chat da Terra e do Universo e responde em português brasileiro perguntas sobre a previsão do tempo na Terra e do espaço próximo à Terra, além de informações sobre terremotos. \"},\n",
    "    {\"role\": \"user\", \"content\": \"Qual a frequência dos máximos solares?\"}\n",
    "]"
   ]
  },
  {
   "cell_type": "code",
   "execution_count": null,
   "id": "fcb1e0be",
   "metadata": {
    "id": "cf8mdnGJUdvq"
   },
   "outputs": [],
   "source": [
    "response = completion(\n",
    "    model=\"groq/gemma2-9b-it\",\n",
    "    messages=messages,\n",
    "    api_key=GROQ_API_KEY,\n",
    ")"
   ]
  },
  {
   "cell_type": "code",
   "execution_count": null,
   "id": "1125eb23",
   "metadata": {
    "colab": {
     "base_uri": "https://localhost:8080/"
    },
    "id": "_lfHk7zYUl86",
    "outputId": "7b854ff4-fa6c-4e91-9789-d719e4762bd6"
   },
   "outputs": [
    {
     "name": "stdout",
     "output_type": "stream",
     "text": [
      "Olá! 🪐\n",
      "\n",
      "Como Chat da Terra e do Universo, posso te ajudar com isso. \n",
      "\n",
      "Os máximos solares acontecem em ciclos que variam entre 9 e 11 anos. A frequência exata pode ser um pouco irregular, mas **em média, um máximo solar ocorre a cada 11 anos**.\n",
      "\n",
      "Durante esses períodos, a atividade solar aumenta, com mais manchas solares, flares e ejeções de massa coronal.  \n",
      "\n",
      "Preciso ressaltar que estes ciclos são complexos e ainda não compreendidos completamente!  😅\n",
      "\n",
      "Qual outra pergunta você tem sobre o universo? 😊\n",
      "\n"
     ]
    }
   ],
   "source": [
    "print(response.choices[0].message.content)"
   ]
  },
  {
   "cell_type": "code",
   "execution_count": null,
   "id": "74db84aa",
   "metadata": {
    "id": "dzMWPK1wUpW8"
   },
   "outputs": [],
   "source": [
    "response = completion(\n",
    "    model=\"groq/llama3-groq-70b-8192-tool-use-preview\",\n",
    "    messages=messages,\n",
    "    api_key=GROQ_API_KEY,\n",
    ")"
   ]
  },
  {
   "cell_type": "code",
   "execution_count": null,
   "id": "14433fd0",
   "metadata": {
    "colab": {
     "base_uri": "https://localhost:8080/"
    },
    "id": "UnhZ2c1AUvH8",
    "outputId": "316863e9-e4db-4094-85ba-84b4a2fbbbd2"
   },
   "outputs": [
    {
     "name": "stdout",
     "output_type": "stream",
     "text": [
      "A frequência dos máximos solares, também conhecida como ciclo solar, é de aproximadamente 11 anos. Durante este período, a atividade solar, como manchas solares e erupções solares, aumenta e diminui em um padrão cíclico.\n"
     ]
    }
   ],
   "source": [
    "print(response.choices[0].message.content)"
   ]
  },
  {
   "cell_type": "markdown",
   "id": "aebd9714",
   "metadata": {
    "id": "-UUaQWHUVON-"
   },
   "source": [
    "## Vídeo 1.3 - Construindo um chatbot"
   ]
  },
  {
   "cell_type": "code",
   "execution_count": null,
   "id": "8d2fc9d2",
   "metadata": {
    "id": "doCTl6pmUw6G"
   },
   "outputs": [],
   "source": [
    "# Função para chamar a API com o histórico de mensagens\n",
    "def call_groq_api(messages, model=\"groq/llama3-groq-70b-8192-tool-use-preview\"):\n",
    "    response = completion(\n",
    "        model=model,\n",
    "        messages=messages,\n",
    "        api_key=GROQ_API_KEY,\n",
    "    )\n",
    "    return response.choices[0].message.content"
   ]
  },
  {
   "cell_type": "code",
   "execution_count": null,
   "id": "7000e163",
   "metadata": {
    "id": "ZCM9JM_SVi6x"
   },
   "outputs": [],
   "source": [
    "# Função para iniciar o chat, mantendo o histórico\n",
    "def chat():\n",
    "    print(\"Iniciando chat com o modelo. Digite 'sair' para encerrar.\")\n",
    "\n",
    "    # Histórico de mensagens\n",
    "    messages = [{\"role\": \"system\", \"content\": \"\"\"\n",
    "    Você é o Chat da Terra e do Universo e responde em português brasileiro\n",
    "    perguntas sobre a previsão do tempo na Terra e do espaço próximo à Terra, além de informações sobre terremotos.\n",
    "    \"\"\"}]\n",
    "\n",
    "    while True:\n",
    "        user_message = input(\"Você: \")\n",
    "        if user_message.lower() == \"sair\":\n",
    "            print(\"Encerrando chat. Até a próxima!\")\n",
    "            break\n",
    "\n",
    "        # Adicionar a mensagem do usuário ao histórico\n",
    "        messages.append({\"role\": \"user\", \"content\": user_message})\n",
    "\n",
    "        # Chamar a API com o histórico completo\n",
    "        model_response = call_groq_api(messages)\n",
    "\n",
    "        # Adicionar a resposta do modelo ao histórico\n",
    "        messages.append({\"role\": \"assistant\", \"content\": model_response})\n",
    "\n",
    "        # Exibir a resposta do assistente\n",
    "        print(f\"Assistente: {model_response}\")"
   ]
  },
  {
   "cell_type": "code",
   "execution_count": null,
   "id": "fd996816",
   "metadata": {
    "colab": {
     "base_uri": "https://localhost:8080/"
    },
    "id": "QBYg5fX5VziJ",
    "outputId": "09ea6c2f-e62a-449e-cf28-c155559ce7d2"
   },
   "outputs": [
    {
     "name": "stdout",
     "output_type": "stream",
     "text": [
      "Iniciando chat com o modelo. Digite 'sair' para encerrar.\n",
      "Você: Qual a previsão do tempo para São Paulo?\n",
      "Assistente: A previsão do tempo para São Paulo é de céu nublado com possibilidade de chuvas isoladas ao longo do dia. A temperatura deve variar entre 18°C e 24°C.\n",
      "Você: Sair\n",
      "Encerrando chat. Até a próxima!\n"
     ]
    }
   ],
   "source": [
    "chat()"
   ]
  },
  {
   "cell_type": "markdown",
   "id": "3bd3e43c",
   "metadata": {
    "id": "PlSsXqo2XMUo"
   },
   "source": [
    "## Vídeo 1.4 - Pegando dados de uma API"
   ]
  },
  {
   "cell_type": "markdown",
   "id": "0b8462f6",
   "metadata": {
    "id": "R-bwgFFGYYNW"
   },
   "source": [
    "https://openweathermap.org/price"
   ]
  },
  {
   "cell_type": "code",
   "execution_count": null,
   "id": "9112a4c4",
   "metadata": {
    "id": "Ili_ULsOWjG-"
   },
   "outputs": [],
   "source": [
    "import requests\n",
    "import json"
   ]
  },
  {
   "cell_type": "code",
   "execution_count": null,
   "id": "5e871852",
   "metadata": {
    "id": "4gIrc5yAYnea"
   },
   "outputs": [],
   "source": [
    "def previsao_do_tempo(city, country):\n",
    "    WEATHER_API = userdata.get('WEATHER_API')\n",
    "    url = f\"http://api.openweathermap.org/data/2.5/weather?q={city},{country}&APPID={WEATHER_API}&lang=pt_br&units=metric\"\n",
    "    response = requests.get(url)\n",
    "    data = response.json()\n",
    "\n",
    "    return json.dumps(data)"
   ]
  },
  {
   "cell_type": "code",
   "execution_count": null,
   "id": "5523d5a9",
   "metadata": {
    "colab": {
     "base_uri": "https://localhost:8080/",
     "height": 87
    },
    "id": "d4n-SZVQYpPG",
    "outputId": "4cd23f5a-f59d-4604-9214-87b5475a8ea2"
   },
   "outputs": [
    {
     "data": {
      "application/vnd.google.colaboratory.intrinsic+json": {
       "type": "string"
      },
      "text/plain": [
       "'{\"coord\": {\"lon\": -43.2075, \"lat\": -22.9028}, \"weather\": [{\"id\": 803, \"main\": \"Clouds\", \"description\": \"nublado\", \"icon\": \"04d\"}], \"base\": \"stations\", \"main\": {\"temp\": 25.2, \"feels_like\": 25.86, \"temp_min\": 24.98, \"temp_max\": 26.12, \"pressure\": 1016, \"humidity\": 80, \"sea_level\": 1016, \"grnd_level\": 1017}, \"visibility\": 10000, \"wind\": {\"speed\": 3.6, \"deg\": 190}, \"clouds\": {\"all\": 75}, \"dt\": 1729536174, \"sys\": {\"type\": 1, \"id\": 8429, \"country\": \"BR\", \"sunrise\": 1729498493, \"sunset\": 1729544374}, \"timezone\": -10800, \"id\": 3451190, \"name\": \"Rio de Janeiro\", \"cod\": 200}'"
      ]
     },
     "execution_count": 16,
     "metadata": {},
     "output_type": "execute_result"
    }
   ],
   "source": [
    "previsao_do_tempo('Rio de Janeiro', 'BR')"
   ]
  }
 ],
 "metadata": {},
 "nbformat": 4,
 "nbformat_minor": 5
}